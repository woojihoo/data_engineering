{
 "cells": [
  {
   "cell_type": "code",
   "execution_count": 15,
   "id": "fdaaf361-2d5f-4f42-99de-ebc16fd4cbc8",
   "metadata": {},
   "outputs": [],
   "source": [
    "#1\n",
    "lovely_loveseat_description=\"Lovely Loveseat. Tufted polyester blend on wood. 32 inches high x 40 inches wide x 30 inches deep. Red or white.\"\n",
    "#2\n",
    "lovely_loveseat_price = 254.00\n",
    "#3\n",
    "stylish_settee_description=\"Stylish Settee. Faux leather on birch. 29.50 inches high x 54.75 inches wide x 28 inches deep. Black.\"\n",
    "#4\n",
    "stylish_settee_price =180.50\n",
    "#5\n",
    "luxurious_lamp_description = \"Luxurious Lamp. Glass and iron. 36 inches tall. Brown with cream shade.\""
   ]
  },
  {
   "cell_type": "code",
   "execution_count": 16,
   "id": "19f945d3-6e5f-404d-b6a1-b94028765318",
   "metadata": {},
   "outputs": [],
   "source": [
    "#6\n",
    "luxurious_lamp_price = 52.15\n",
    "#7\n",
    "sales_tax = 0.088\n",
    "#8\n",
    "customer_one_total = 0\n",
    "#9\n",
    "customer_one_itemization = \"\"\n",
    "#10\n",
    "customer_one_total += lovely_loveseat_price"
   ]
  },
  {
   "cell_type": "code",
   "execution_count": 17,
   "id": "4f5dc41e-3c62-45cb-9fd5-1f0dfde6087b",
   "metadata": {},
   "outputs": [],
   "source": [
    "#11\n",
    "customer_one_itemization = customer_one_itemization\n",
    "#12\n",
    "customer_one_total += luxurious_lamp_price\n",
    "#13\n",
    "customer_one_itemization += luxurious_lamp_description\n",
    "#14\n",
    "customer_one_tax = customer_one_total * sales_tax\n",
    "#15\n",
    "customer_one_total += customer_one_tax"
   ]
  },
  {
   "cell_type": "code",
   "execution_count": 18,
   "id": "08ac8717-fe08-499c-a5ed-df8454b2969e",
   "metadata": {},
   "outputs": [
    {
     "name": "stdout",
     "output_type": "stream",
     "text": [
      "Customer One Items:\n",
      "Luxurious Lamp. Glass and iron. 36 inches tall. Brown with cream shade.\n",
      "Customer One Total:\n",
      "333.09119999999996\n"
     ]
    }
   ],
   "source": [
    "#16\n",
    "print(\"Customer One Items:\")\n",
    "#17\n",
    "print(customer_one_itemization)\n",
    "#18\n",
    "print(\"Customer One Total:\")\n",
    "#19\n",
    "print(customer_one_total)\n",
    "#20"
   ]
  }
 ],
 "metadata": {
  "kernelspec": {
   "display_name": "Python 3 (ipykernel)",
   "language": "python",
   "name": "python3"
  },
  "language_info": {
   "codemirror_mode": {
    "name": "ipython",
    "version": 3
   },
   "file_extension": ".py",
   "mimetype": "text/x-python",
   "name": "python",
   "nbconvert_exporter": "python",
   "pygments_lexer": "ipython3",
   "version": "3.9.12"
  }
 },
 "nbformat": 4,
 "nbformat_minor": 5
}
