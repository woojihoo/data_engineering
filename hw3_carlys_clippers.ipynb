{
 "cells": [
  {
   "cell_type": "code",
   "execution_count": 17,
   "id": "5945a00a-1a12-4b04-953e-8c1bfe3cf621",
   "metadata": {},
   "outputs": [],
   "source": [
    "hairstyles = [\"bouffant\", \"pixie\", \"dreadlocks\", \"crew\", \"bowl\", \"bob\", \"mohawk\", \"flattop\"]\n",
    "\n",
    "prices = [30, 25, 40, 20, 20, 35, 50, 35]\n",
    "\n",
    "last_week = [2, 3, 5, 8, 4, 4, 6, 2]"
   ]
  },
  {
   "cell_type": "code",
   "execution_count": 18,
   "id": "ccb80d18-7e3a-4b9b-b73d-02485655ea55",
   "metadata": {},
   "outputs": [
    {
     "name": "stdout",
     "output_type": "stream",
     "text": [
      "Average price is 31.875\n"
     ]
    }
   ],
   "source": [
    "#1\n",
    "total_price = 0\n",
    "#2\n",
    "for i in range(len(prices)):\n",
    "    total_price +=  prices[i]\n",
    "#3\n",
    "average_price = total_price/len(prices)\n",
    "#4\n",
    "print(\"Average price is\",average_price)"
   ]
  },
  {
   "cell_type": "code",
   "execution_count": 27,
   "id": "5a781365-9705-46b2-a225-d2c41a3f9fe1",
   "metadata": {},
   "outputs": [
    {
     "name": "stdout",
     "output_type": "stream",
     "text": [
      "[25, 20, 35, 15, 15, 30, 45, 30]\n"
     ]
    }
   ],
   "source": [
    "#5\n",
    "new_prices= [prices[i]-5 for i in range(len(prices))]\n",
    "#6\n",
    "print(new_prices)"
   ]
  },
  {
   "cell_type": "code",
   "execution_count": 32,
   "id": "9819a13a-493b-45e6-bbea-b251ad17e64f",
   "metadata": {},
   "outputs": [
    {
     "name": "stdout",
     "output_type": "stream",
     "text": [
      "1085\n",
      "Average daily revenue is  155.0\n"
     ]
    }
   ],
   "source": [
    "#7\n",
    "total_revenue =0 \n",
    "#8\n",
    "for i in range(len(hairstyles)):\n",
    "    #9\n",
    "    total_revenue += prices[i] * last_week[i]\n",
    "#10\n",
    "print(total_revenue)\n",
    "#11\n",
    "average_daily_revenue  = total_revenue / 7 \n",
    "print(\"Average daily revenue is \" , average_daily_revenue )"
   ]
  },
  {
   "cell_type": "code",
   "execution_count": 36,
   "id": "f700f353-3b14-417d-8484-ccd95bb8a33c",
   "metadata": {},
   "outputs": [
    {
     "name": "stdout",
     "output_type": "stream",
     "text": [
      "['bouffant', 'pixie', 'crew', 'bowl']\n"
     ]
    }
   ],
   "source": [
    "#12\n",
    "cuts_under_30  = [hairstyles[i] for i in range(len(new_prices)) if new_prices[i]<30]\n",
    "#13\n",
    "print(cuts_under_30)"
   ]
  }
 ],
 "metadata": {
  "kernelspec": {
   "display_name": "Python 3 (ipykernel)",
   "language": "python",
   "name": "python3"
  },
  "language_info": {
   "codemirror_mode": {
    "name": "ipython",
    "version": 3
   },
   "file_extension": ".py",
   "mimetype": "text/x-python",
   "name": "python",
   "nbconvert_exporter": "python",
   "pygments_lexer": "ipython3",
   "version": "3.9.12"
  }
 },
 "nbformat": 4,
 "nbformat_minor": 5
}
