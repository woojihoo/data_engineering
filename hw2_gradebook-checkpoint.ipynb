{
 "cells": [
  {
   "cell_type": "code",
   "execution_count": 7,
   "id": "a160abb7-bc8d-40f3-bc90-6a14b741673d",
   "metadata": {},
   "outputs": [
    {
     "name": "stdout",
     "output_type": "stream",
     "text": [
      "[['physics', 98], ['calculus', 97], ['poetry', 85], ['history', 88]]\n"
     ]
    }
   ],
   "source": [
    "#1\n",
    "subjects=[\"physics\",\"calculus\",\"poetry\",\"history\"]\n",
    "#2\n",
    "grades =[98,97,85,88]\n",
    "#3\n",
    "gradebook=[[subjects[0],grades[0]],[subjects[1],grades[1]],[subjects[2],grades[2]],[subjects[3],grades[3]]]\n",
    "#4\n",
    "print(gradebook)\n",
    "#5\n",
    "gradebook.append([\"computer science\",100])"
   ]
  },
  {
   "cell_type": "code",
   "execution_count": 8,
   "id": "b0a45147-4724-4d4b-94e9-f89e566f63a9",
   "metadata": {},
   "outputs": [
    {
     "name": "stdout",
     "output_type": "stream",
     "text": [
      "[['politics', 80], ['latin', 96], ['dance', 97], ['architecture', 65], ['physics', 98], ['calculus', 97], ['poetry', 'Pass'], ['history', 88], ['computer science', 100], ['visual arts', 98]]\n"
     ]
    }
   ],
   "source": [
    "#6\n",
    "gradebook.append([\"visual arts\",93])\n",
    "#7\n",
    "gradebook[5][1]+=5\n",
    "#8\n",
    "gradebook[2].remove(85)\n",
    "#9\n",
    "gradebook[2].append(\"Pass\")\n",
    "#10\n",
    "last_semester_gradebook = [[\"politics\", 80], [\"latin\", 96], [\"dance\", 97], [\"architecture\", 65]]\n",
    "full_gradebook=last_semester_gradebook+gradebook\n",
    "print(full_gradebook)"
   ]
  }
 ],
 "metadata": {
  "kernelspec": {
   "display_name": "Python 3 (ipykernel)",
   "language": "python",
   "name": "python3"
  },
  "language_info": {
   "codemirror_mode": {
    "name": "ipython",
    "version": 3
   },
   "file_extension": ".py",
   "mimetype": "text/x-python",
   "name": "python",
   "nbconvert_exporter": "python",
   "pygments_lexer": "ipython3",
   "version": "3.9.12"
  }
 },
 "nbformat": 4,
 "nbformat_minor": 5
}
