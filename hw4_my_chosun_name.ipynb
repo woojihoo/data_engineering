{
 "cells": [
  {
   "cell_type": "code",
   "execution_count": 11,
   "id": "00687dcb-4d6b-49ca-8164-8f25fe787172",
   "metadata": {},
   "outputs": [],
   "source": [
    "def get_my_chosun_name(family_name,month,day) :\n",
    "    \n",
    "    #1\n",
    "    month_name=['쌍', '쇠', '복', '돌', '팽', '육', '쌍', '개', '칠', '갑', '삼', '방']\n",
    "    #2\n",
    "    day_name=['봉', '구', '욕', '포', '똥', '삼', '식', '석', '놈', '님', '년', '돌', '단', '득', '방', '질', '장', '걸', '래', '룡', '동', '순', '자', '박', '창', '언', '것', '포', '만', '단', '국']\n",
    "    #3\n",
    "    print(\"당신의 조선시대 이름은 \"+family_name+month_name[month-1]+day_name[day-1]+\" 입니다\")"
   ]
  },
  {
   "cell_type": "code",
   "execution_count": 12,
   "id": "8fb28c3e-94fb-41ee-a4a6-833af68ef6e9",
   "metadata": {},
   "outputs": [
    {
     "name": "stdout",
     "output_type": "stream",
     "text": [
      "당신의 조선시대 이름은 우방창 입니다\n"
     ]
    }
   ],
   "source": [
    "get_my_chosun_name('우',12,25)"
   ]
  },
  {
   "cell_type": "code",
   "execution_count": null,
   "id": "ff9f6867-f291-4ad8-98a1-625d4ed4be2d",
   "metadata": {},
   "outputs": [],
   "source": []
  }
 ],
 "metadata": {
  "kernelspec": {
   "display_name": "Python 3 (ipykernel)",
   "language": "python",
   "name": "python3"
  },
  "language_info": {
   "codemirror_mode": {
    "name": "ipython",
    "version": 3
   },
   "file_extension": ".py",
   "mimetype": "text/x-python",
   "name": "python",
   "nbconvert_exporter": "python",
   "pygments_lexer": "ipython3",
   "version": "3.9.12"
  }
 },
 "nbformat": 4,
 "nbformat_minor": 5
}
